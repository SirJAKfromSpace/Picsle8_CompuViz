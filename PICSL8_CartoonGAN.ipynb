{
 "cells": [
  {
   "cell_type": "code",
   "execution_count": null,
   "metadata": {},
   "outputs": [],
   "source": [
    "import torch\n",
    "import torch.nn as nn\n",
    "import torch.nn.functional as F\n",
    "import torch.optim as optim\n",
    "import torchvision.transforms as transforms\n",
    "import torchvision.models as models\n",
    "from torchvision.utils import save_image\n",
    "\n",
    "from PIL import Image\n",
    "import matplotlib.pyplot as plt\n",
    "\n",
    "import copy\n",
    "\n",
    "from pytorch_datasetloader import *"
   ]
  },
  {
   "cell_type": "markdown",
   "metadata": {},
   "source": [
    "# The Discriminator"
   ]
  },
  {
   "cell_type": "code",
   "execution_count": 2,
   "metadata": {},
   "outputs": [],
   "source": [
    "class Dis(nn.Module):\n",
    "    \n",
    "    \n",
    "    def __init__(self):\n",
    "        \n",
    "        super().__init__()\n",
    "        \n",
    "        #block 1 input = 3*128*128 \n",
    "        self.layer1 = nn.Sequential(\n",
    "            nn.Conv2d(in_channels=3,out_channels=15, kernel_size=3, stride=1, padding=1),\n",
    "            nn.ReLU(),\n",
    "            nn.MaxPool2d(kernel_size=2, stride=2))\n",
    "        \n",
    "        #block 2 input = 15*64*64\n",
    "        self.layer2 = nn.Sequential(\n",
    "            nn.Conv2d(in_channels=15,out_channels=50, kernel_size=3, stride=1, padding=1),\n",
    "            nn.ReLU(),\n",
    "            nn.MaxPool2d(kernel_size=2, stride=2))\n",
    "        \n",
    "        #block 3 input = 50*32*32\n",
    "        self.layer3 = nn.Sequential(\n",
    "            nn.Conv2d(in_channels=50,out_channels=200, kernel_size=3, stride=1, padding=1),\n",
    "            nn.ReLU(),\n",
    "            nn.MaxPool2d(kernel_size=2, stride=2))\n",
    "        \n",
    "     \n",
    "        #self.drop_out = nn.Dropout()\n",
    "        self.fc1 = torch.nn.Linear(200*16*16, 120)\n",
    "        self.fc2 = torch.nn.Linear(120, 60)\n",
    "        \n",
    "        self.outlayer = nn.Sequential(\n",
    "            nn.Linear(60, 1),\n",
    "            nn.Sigmoid()\n",
    "        )\n",
    "        \n",
    "        \n",
    "        \n",
    "    def forward(self, x):\n",
    "        \n",
    "\n",
    "        out = self.layer1(x)\n",
    "        out = self.layer2(out)\n",
    "        out = self.layer3(out)\n",
    "        out = out.reshape(out.size(0), -1)\n",
    "        #out = self.drop_out(out)\n",
    "        out = self.fc1(out)\n",
    "        out = self.fc2(out)\n",
    "        out = self.outlayer(out)\n",
    "        \n",
    "        return(out)\n",
    "    \n"
   ]
  },
  {
   "cell_type": "code",
   "execution_count": 3,
   "metadata": {},
   "outputs": [],
   "source": [
    "#patch level Discriminator Used In cartoonGAN\n",
    "#code: https://github.com/znxlwm/pytorch-CartoonGAN/\n",
    "class Dis_patch(nn.Module):\n",
    "    \n",
    "    # initializers\n",
    "    def __init__(self, in_nc, out_nc, nf=32):\n",
    "        super(Dis_patch, self).__init__()\n",
    "        self.input_nc = in_nc\n",
    "        self.output_nc = out_nc\n",
    "        self.nf = nf\n",
    "        self.convs = nn.Sequential(\n",
    "            nn.Conv2d(in_nc, nf, 3, 1, 1),\n",
    "            nn.LeakyReLU(0.2, True),\n",
    "            nn.Conv2d(nf, nf * 2, 3, 2, 1),\n",
    "            nn.LeakyReLU(0.2, True),\n",
    "            nn.Conv2d(nf * 2, nf * 4, 3, 1, 1),\n",
    "            nn.InstanceNorm2d(nf * 4),\n",
    "            nn.LeakyReLU(0.2, True),\n",
    "            nn.Conv2d(nf * 4, nf * 4, 3, 2, 1),\n",
    "            nn.LeakyReLU(0.2, True),\n",
    "            nn.Conv2d(nf * 4, nf * 8, 3, 1, 1),\n",
    "            nn.InstanceNorm2d(nf * 8),\n",
    "            nn.LeakyReLU(0.2, True),\n",
    "            nn.Conv2d(nf * 8, nf * 8, 3, 1, 1),\n",
    "            nn.InstanceNorm2d(nf * 8),\n",
    "            nn.LeakyReLU(0.2, True),\n",
    "            nn.Conv2d(nf * 8, out_nc, 3, 1, 1),\n",
    "            nn.Sigmoid(),\n",
    "        )\n",
    "\n",
    "    # forward method\n",
    "    def forward(self, input):\n",
    "\n",
    "        output = self.convs(input)\n",
    "\n",
    "        return output"
   ]
  },
  {
   "cell_type": "markdown",
   "metadata": {},
   "source": [
    "# The Generator"
   ]
  },
  {
   "cell_type": "code",
   "execution_count": 4,
   "metadata": {},
   "outputs": [],
   "source": [
    "#pooling for rescaling was avoided in favor of strided convolutions\n",
    "#based on following paper: https://arxiv.org/pdf/1606.03498.pdf\n",
    "class Gen(nn.Module):\n",
    "    \n",
    "\n",
    "    \n",
    "    def __init__(self):\n",
    "        \n",
    "        super().__init__()\n",
    "        \n",
    "\n",
    "        self.encode = nn.Sequential(\n",
    "            \n",
    "            #encoding 1\n",
    "            nn.Conv2d(in_channels=3,out_channels=15, kernel_size=4, stride=2, padding=1),\n",
    "            nn.BatchNorm2d(15),\n",
    "            \n",
    "            #encoding 2\n",
    "            nn.Conv2d(in_channels=15,out_channels=50, kernel_size=4, stride=2, padding=1),\n",
    "            nn.BatchNorm2d(50),\n",
    "            \n",
    "            #encoding 3\n",
    "            nn.Conv2d(in_channels=50,out_channels=200, kernel_size=4, stride=2, padding=1),\n",
    "            nn.BatchNorm2d(200)\n",
    "            \n",
    "            \n",
    "        )\n",
    "        \n",
    "        \n",
    "        self.decode = nn.Sequential(\n",
    "            \n",
    "            #decoding 1\n",
    "            nn.ConvTranspose2d(in_channels=200,out_channels=50, kernel_size=4, stride=2, padding=1),\n",
    "            nn.BatchNorm2d(50),\n",
    "            \n",
    "            #decoding 2\n",
    "            nn.ConvTranspose2d(in_channels=50,out_channels=15, kernel_size=4, stride=2, padding=1),\n",
    "            nn.BatchNorm2d(15),\n",
    "            \n",
    "            #decoding 3\n",
    "            nn.ConvTranspose2d(in_channels=15,out_channels=3, kernel_size=4, stride=2, padding=1)\n",
    "        )\n",
    "        \n",
    "        \n",
    "        \n",
    "        \n",
    "    def forward(self, x):\n",
    "        \n",
    "\n",
    "        out = self.encode(x)\n",
    "        out = self.decode(out)\n",
    "  \n",
    "        return(out)\n",
    "\n",
    "\n"
   ]
  },
  {
   "cell_type": "code",
   "execution_count": 5,
   "metadata": {},
   "outputs": [],
   "source": [
    "#pooling for rescaling was avoided in favor of strided convolutions\n",
    "#based on following paper: https://arxiv.org/pdf/1606.03498.pdf\n",
    "class Custom_Gen_Res(nn.Module):\n",
    "    \n",
    "\n",
    "    \n",
    "    def __init__(self):\n",
    "        \n",
    "        super().__init__()\n",
    "        \n",
    "\n",
    "        self.encode = nn.Sequential(\n",
    "            \n",
    "            #encoding 1\n",
    "            nn.Conv2d(in_channels=3,out_channels=15, kernel_size=4, stride=2, padding=1),\n",
    "            nn.BatchNorm2d(15),\n",
    "            \n",
    "            #encoding 2\n",
    "            nn.Conv2d(in_channels=15,out_channels=50, kernel_size=4, stride=2, padding=1),\n",
    "            nn.BatchNorm2d(50),\n",
    "            \n",
    "            #encoding 3\n",
    "            nn.Conv2d(in_channels=50,out_channels=200, kernel_size=4, stride=2, padding=1),\n",
    "            nn.BatchNorm2d(200)\n",
    "            \n",
    "            \n",
    "        )\n",
    "        \n",
    "        \n",
    "        for i in range(nb):\n",
    "            self.resnet_blocks.append(resnet_block(nf * 4, 3, 1, 1))\n",
    "        \n",
    "        \n",
    "        self.decode = nn.Sequential(\n",
    "            \n",
    "            #decoding 1\n",
    "            nn.ConvTranspose2d(in_channels=200,out_channels=50, kernel_size=4, stride=2, padding=1),\n",
    "            nn.BatchNorm2d(50),\n",
    "            \n",
    "            #decoding 2\n",
    "            nn.ConvTranspose2d(in_channels=50,out_channels=15, kernel_size=4, stride=2, padding=1),\n",
    "            nn.BatchNorm2d(15),\n",
    "            \n",
    "            #decoding 3\n",
    "            nn.ConvTranspose2d(in_channels=15,out_channels=3, kernel_size=4, stride=2, padding=1)\n",
    "        )\n",
    "        \n",
    "        \n",
    "        \n",
    "        \n",
    "    def forward(self, x):\n",
    "        \n",
    "\n",
    "        out = self.encode(x)\n",
    "        out = self.decode(out)\n",
    "  \n",
    "        return(out)\n",
    "\n",
    "\n"
   ]
  },
  {
   "cell_type": "markdown",
   "metadata": {},
   "source": [
    "# The ResNet Block"
   ]
  },
  {
   "cell_type": "code",
   "execution_count": 21,
   "metadata": {},
   "outputs": [],
   "source": [
    "class resnet_block(nn.Module):\n",
    "    def __init__(self, channel, kernel, stride, padding):\n",
    "        super(resnet_block, self).__init__()\n",
    "        self.channel = channel\n",
    "        self.kernel = kernel\n",
    "        self.strdie = stride\n",
    "        self.padding = padding\n",
    "        self.conv1 = nn.Conv2d(channel, channel, kernel, stride, padding)\n",
    "        self.conv1_norm = nn.InstanceNorm2d(channel)\n",
    "        self.conv2 = nn.Conv2d(channel, channel, kernel, stride, padding)\n",
    "        self.conv2_norm = nn.InstanceNorm2d(channel)\n",
    "\n",
    "    def forward(self, input):\n",
    "        x = F.relu(self.conv1_norm(self.conv1(input)), True)\n",
    "        x = self.conv2_norm(self.conv2(x))\n",
    "\n",
    "        return input + x #Elementwise Sum"
   ]
  },
  {
   "cell_type": "code",
   "execution_count": 22,
   "metadata": {},
   "outputs": [],
   "source": [
    "class Gen_res(nn.Module):\n",
    "    # initializers\n",
    "    def __init__(self, in_nc, out_nc, nf=32, nb=6):\n",
    "        super(Gen_res, self).__init__()\n",
    "        self.input_nc = in_nc\n",
    "        self.output_nc = out_nc\n",
    "        self.nf = nf\n",
    "        self.nb = nb\n",
    "        self.down_convs = nn.Sequential(\n",
    "            nn.Conv2d(in_nc, nf, 7, 1, 3), #k7n64s1\n",
    "            nn.InstanceNorm2d(nf),\n",
    "            nn.ReLU(True),\n",
    "            nn.Conv2d(nf, nf * 2, 3, 2, 1), #k3n128s2\n",
    "            nn.Conv2d(nf * 2, nf * 2, 3, 1, 1), #k3n128s1\n",
    "            nn.InstanceNorm2d(nf * 2),\n",
    "            nn.ReLU(True),\n",
    "            nn.Conv2d(nf * 2, nf * 4, 3, 2, 1), #k3n256s1\n",
    "            nn.Conv2d(nf * 4, nf * 4, 3, 1, 1), #k3n256s1\n",
    "            nn.InstanceNorm2d(nf * 4),\n",
    "            nn.ReLU(True),\n",
    "        )\n",
    "\n",
    "        self.resnet_blocks = []\n",
    "        for i in range(nb):\n",
    "            self.resnet_blocks.append(resnet_block(nf * 4, 3, 1, 1))\n",
    "\n",
    "        self.resnet_blocks = nn.Sequential(*self.resnet_blocks)\n",
    "\n",
    "        self.up_convs = nn.Sequential(\n",
    "            nn.ConvTranspose2d(nf * 4, nf * 2, 3, 2, 1, 1), #k3n128s1/2\n",
    "            nn.Conv2d(nf * 2, nf * 2, 3, 1, 1), #k3n128s1\n",
    "            nn.InstanceNorm2d(nf * 2),\n",
    "            nn.ReLU(True),\n",
    "            nn.ConvTranspose2d(nf * 2, nf, 3, 2, 1, 1), #k3n64s1/2\n",
    "            nn.Conv2d(nf, nf, 3, 1, 1), #k3n64s1\n",
    "            nn.InstanceNorm2d(nf),\n",
    "            nn.ReLU(True),\n",
    "            nn.Conv2d(nf, out_nc, 7, 1, 3), #k7n3s1\n",
    "            nn.Tanh(),\n",
    "        )\n",
    "\n",
    "\n",
    "    # forward method\n",
    "    def forward(self, input):\n",
    "        x = self.down_convs(input)\n",
    "        x = self.resnet_blocks(x)\n",
    "        output = self.up_convs(x)\n",
    "\n",
    "        return output"
   ]
  },
  {
   "cell_type": "markdown",
   "metadata": {},
   "source": [
    "# VGG19 Feature-map Extractor"
   ]
  },
  {
   "cell_type": "code",
   "execution_count": 8,
   "metadata": {},
   "outputs": [],
   "source": [
    "class VGG19(nn.Module):\n",
    "    def __init__(self, init_weights=None, feature_mode=False, batch_norm=False, num_classes=1000):\n",
    "        super(VGG19, self).__init__()\n",
    "        self.cfg = [64, 64, 'M', 128, 128, 'M', 256, 256, 256, 256, 'M', 512, 512, 512, 512, 'M', 512, 512, 512, 512, 'M']\n",
    "        self.init_weights = init_weights\n",
    "        self.feature_mode = feature_mode\n",
    "        self.batch_norm = batch_norm\n",
    "        self.num_clases = num_classes\n",
    "        self.features = self.make_layers(self.cfg, batch_norm)\n",
    "        self.classifier = nn.Sequential(\n",
    "            nn.Linear(512 * 7 * 7, 4096),\n",
    "            nn.ReLU(True),\n",
    "            nn.Dropout(),\n",
    "            nn.Linear(4096, 4096),\n",
    "            nn.ReLU(True),\n",
    "            nn.Dropout(),\n",
    "            nn.Linear(4096, num_classes),\n",
    "        )\n",
    "        if not init_weights == None:\n",
    "            self.load_state_dict(torch.load(init_weights))\n",
    "\n",
    "    def make_layers(self, cfg, batch_norm=False):\n",
    "        layers = []\n",
    "        in_channels = 3\n",
    "        for v in cfg:\n",
    "            if v == 'M':\n",
    "                layers += [nn.MaxPool2d(kernel_size=2, stride=2)]\n",
    "            else:\n",
    "                conv2d = nn.Conv2d(in_channels, v, kernel_size=3, padding=1)\n",
    "                if batch_norm:\n",
    "                    layers += [conv2d, nn.BatchNorm2d(v), nn.ReLU(inplace=True)]\n",
    "                else:\n",
    "                    layers += [conv2d, nn.ReLU(inplace=True)]\n",
    "                in_channels = v\n",
    "        return nn.Sequential(*layers)\n",
    "\n",
    "    def forward(self, x):\n",
    "        if self.feature_mode:\n",
    "            module_list = list(self.features.modules())\n",
    "            for l in module_list[1:27]:                 # conv4_4\n",
    "                x = l(x)\n",
    "        if not self.feature_mode:\n",
    "            x = x.view(x.size(0), -1)\n",
    "            x = self.classifier(x)\n",
    "\n",
    "        return x"
   ]
  },
  {
   "cell_type": "markdown",
   "metadata": {},
   "source": [
    "# Initialize Generetor and Discriminator"
   ]
  },
  {
   "cell_type": "code",
   "execution_count": 9,
   "metadata": {},
   "outputs": [
    {
     "name": "stdout",
     "output_type": "stream",
     "text": [
      "cuda:0\n"
     ]
    }
   ],
   "source": [
    "#using cuda if available\n",
    "device = torch.device(\"cuda:0\" if torch.cuda.is_available() else \"cpu\")\n",
    "print(device)\n",
    "\n",
    "# D = Dis()\n",
    "D = Dis_patch(3,1)\n",
    "D = D.to(device)\n",
    "\n",
    "G = Gen_res(3,3)\n",
    "G = G.to(device)\n",
    "\n",
    "\n",
    "VGG = VGG19('Pretrained Models/vgg19-dcbb9e9d.pth',feature_mode=True)\n",
    "VGG = VGG.to(device)\n"
   ]
  },
  {
   "cell_type": "markdown",
   "metadata": {},
   "source": [
    "# Selecting Optimizer "
   ]
  },
  {
   "cell_type": "code",
   "execution_count": 12,
   "metadata": {},
   "outputs": [],
   "source": [
    "criterion = nn.BCELoss().to(device)\n",
    "L1_loss = nn.L1Loss().to(device)\n",
    "\n",
    "d_optimizer = torch.optim.Adam(D.parameters(), lr=0.0002)\n",
    "g_optimizer = torch.optim.Adam(G.parameters(), lr=0.0002)"
   ]
  },
  {
   "cell_type": "markdown",
   "metadata": {},
   "source": [
    "# Reconstruction Workload"
   ]
  },
  {
   "cell_type": "markdown",
   "metadata": {},
   "source": [
    "## Loading Prexisting Generator"
   ]
  },
  {
   "cell_type": "code",
   "execution_count": 10,
   "metadata": {},
   "outputs": [
    {
     "ename": "NameError",
     "evalue": "name 'batch_size_Realpix' is not defined",
     "output_type": "error",
     "traceback": [
      "\u001b[1;31m---------------------------------------------------------------------------\u001b[0m",
      "\u001b[1;31mNameError\u001b[0m                                 Traceback (most recent call last)",
      "\u001b[1;32m<ipython-input-10-d3fd4ecd03d8>\u001b[0m in \u001b[0;36m<module>\u001b[1;34m\u001b[0m\n\u001b[0;32m     11\u001b[0m \u001b[1;33m\u001b[0m\u001b[0m\n\u001b[0;32m     12\u001b[0m \u001b[0mpath\u001b[0m \u001b[1;33m=\u001b[0m \u001b[1;34m'RealFaces_400'\u001b[0m\u001b[1;33m\u001b[0m\u001b[0m\n\u001b[1;32m---> 13\u001b[1;33m \u001b[0mtrainloader_nonpixel\u001b[0m\u001b[1;33m,\u001b[0m \u001b[0mvalidloader_nonpixel\u001b[0m \u001b[1;33m=\u001b[0m \u001b[0mget_loaders\u001b[0m\u001b[1;33m(\u001b[0m\u001b[0mpath\u001b[0m\u001b[1;33m,\u001b[0m\u001b[0mbatch_size\u001b[0m\u001b[1;33m=\u001b[0m\u001b[0mbatch_size_Realpix\u001b[0m\u001b[1;33m,\u001b[0m\u001b[0mnum_workers\u001b[0m\u001b[1;33m=\u001b[0m\u001b[1;36m0\u001b[0m\u001b[1;33m)\u001b[0m\u001b[1;33m\u001b[0m\u001b[0m\n\u001b[0m\u001b[0;32m     14\u001b[0m \u001b[1;33m\u001b[0m\u001b[0m\n\u001b[0;32m     15\u001b[0m \u001b[1;33m\u001b[0m\u001b[0m\n",
      "\u001b[1;31mNameError\u001b[0m: name 'batch_size_Realpix' is not defined"
     ]
    }
   ],
   "source": [
    "batch_size = 50\n",
    "\n",
    "#G = Gen_res(3,3)\n",
    "#G.load_state_dict(torch.load('GAN_OUTs/Reconstructing_generator_gen.pkl'))\n",
    "\n",
    "G = Gen()\n",
    "G.load_state_dict(torch.load('GAN_OUTs/Reconstructing_generator_gen.pkl'))\n",
    "G = G.to(device)\n",
    "\n",
    "\n",
    "g_optimizer = torch.optim.Adam(G.parameters(), lr=0.0002)\n",
    "\n",
    "\n",
    "path = 'RealFaces_400'\n",
    "trainloader_nonpixel, validloader_nonpixel = get_loaders(path,batch_size=batch_size,num_workers=0)\n",
    "\n",
    "\n"
   ]
  },
  {
   "cell_type": "markdown",
   "metadata": {},
   "source": [
    "## Pre-Train Reconstruction Only"
   ]
  },
  {
   "cell_type": "code",
   "execution_count": null,
   "metadata": {},
   "outputs": [],
   "source": [
    "num_epochs = 2000\n",
    "recon_loss_list = []\n",
    "\n",
    "for epoch in range(num_epochs):\n",
    "    \n",
    "    trainiter_nonpixel = iter(trainloader_nonpixel)\n",
    "    #trainloader_pixel = iter(trainloader_pixel)\n",
    "    \n",
    "    for i in range(5):\n",
    "        \n",
    "        inputImages, input_lbls = trainiter_nonpixel.next()\n",
    "        inputImages = inputImages.to(device)\n",
    "\n",
    "        fake_images = G(inputImages)\n",
    "        \n",
    "        inputImages_fmap = VGG((inputImages + 1) / 2)\n",
    "        G_fmap = VGG((fake_images + 1) / 2)\n",
    "        \n",
    "        Recon_loss = 10 * L1_loss(G_fmap, inputImages_fmap.detach())\n",
    "        \n",
    "        g_optimizer.zero_grad()\n",
    "        Recon_loss.backward()\n",
    "        g_optimizer.step()\n",
    "      \n",
    "    if (epoch+1) % 10 == 0:\n",
    "        print('Epoch No [{}/{}] Generator Loss: {:.4f}'.format(epoch+1,num_epochs,Recon_loss.item()))\n",
    "        #appending loss every 10 epochs\n",
    "        recon_loss_list.append(Recon_loss.item())\n",
    "    \n",
    "        if (epoch+1) % 100 == 0:\n",
    "        # Save fake images\n",
    "            fake_images = fake_images.view(fake_images.size(0), 3, 128, 128)\n",
    "            save_image(fake_images.data, 'images/GAN_IO/fakes/fake_images-%d.png' %(epoch+1))\n",
    "\n",
    "\n",
    "\n",
    "#Save Generator\n",
    "torch.save(G.state_dict(), 'GAN_OUTs/Reconstructing_generator_gen.pkl')\n"
   ]
  },
  {
   "cell_type": "markdown",
   "metadata": {},
   "source": [
    "## Testing Reconstruction On Different Dataset"
   ]
  },
  {
   "cell_type": "code",
   "execution_count": 25,
   "metadata": {},
   "outputs": [
    {
     "name": "stdout",
     "output_type": "stream",
     "text": [
      "400 images from the dataset\n"
     ]
    }
   ],
   "source": [
    "path = 'PixelFaces_400'\n",
    "im_loader, _ = get_loaders(path,batch_size=batch_size_Realpix,num_workers=0)\n",
    "\n",
    "testiter = iter(im_loader)\n",
    "\n",
    "testImages, _ = testiter.next()\n",
    "testImages = testImages.to(device)\n",
    "\n",
    "\n",
    "output = G(testImages)\n",
    "\n",
    "fake_images = output.view(output.size(0), 3, 128, 128)\n",
    "save_image(fake_images.data, 'images/GAN_IO/sample_outputs/recon_sample.png')\n",
    "\n",
    "testImages = testImages.view(testImages.size(0), 3, 128, 128)\n",
    "save_image(testImages.data, 'images/GAN_IO/sample_outputs/recon_input.png')\n",
    "\n"
   ]
  },
  {
   "cell_type": "markdown",
   "metadata": {},
   "source": [
    "# DCGAN Training"
   ]
  },
  {
   "cell_type": "markdown",
   "metadata": {},
   "source": [
    "## Loading Prexisting Generator"
   ]
  },
  {
   "cell_type": "code",
   "execution_count": 14,
   "metadata": {},
   "outputs": [],
   "source": [
    "G = Gen_res(3,3)\n",
    "G.load_state_dict(torch.load('GAN_OUTs/Reconstructing_generator.pkl'))\n",
    "\n",
    "# G = Gen()\n",
    "# G.load_state_dict(torch.load('GAN_OUTs/Reconstructing_generator_gen.pkl'))\n",
    "G = G.to(device)\n",
    "\n",
    "g_optimizer = torch.optim.Adam(G.parameters(), lr=0.0002)\n"
   ]
  },
  {
   "cell_type": "markdown",
   "metadata": {},
   "source": [
    "## Loading Datasets for Training DCGAN"
   ]
  },
  {
   "cell_type": "code",
   "execution_count": 15,
   "metadata": {},
   "outputs": [
    {
     "name": "stdout",
     "output_type": "stream",
     "text": [
      "400 images from the dataset\n",
      "400 images from the dataset\n"
     ]
    }
   ],
   "source": [
    "batch_size_Realpix = 60\n",
    "batch_size_mixed = 60\n",
    "dataset_len =  400\n",
    "\n",
    "path = 'RealFaces_400'\n",
    "trainloader_nonpixel, validloader_nonpixel = get_loaders(path,batch_size=batch_size_Realpix,num_workers=0)\n",
    "\n",
    "path = 'PixelFaces_400'\n",
    "trainloader_pixel, validloader_pixel = get_loaders(path,batch_size=batch_size_mixed,num_workers=0)\n",
    "\n",
    "\n",
    "trainiter_nonpixel = iter(trainloader_nonpixel)\n",
    "trainIter_pixel = iter(trainloader_pixel)"
   ]
  },
  {
   "cell_type": "markdown",
   "metadata": {},
   "source": [
    "## Training the DCGAN"
   ]
  },
  {
   "cell_type": "code",
   "execution_count": 16,
   "metadata": {},
   "outputs": [
    {
     "name": "stdout",
     "output_type": "stream",
     "text": [
      "Epoch No [10/2500] Discriminator Loss: 0.9452, Generator Loss: 3.1581\n",
      "Epoch No [20/2500] Discriminator Loss: 1.0786, Generator Loss: 2.4713\n",
      "Epoch No [30/2500] Discriminator Loss: 1.0106, Generator Loss: 2.7925\n",
      "Epoch No [40/2500] Discriminator Loss: 1.4354, Generator Loss: 3.3082\n",
      "Epoch No [50/2500] Discriminator Loss: 1.2975, Generator Loss: 2.9867\n",
      "Epoch No [60/2500] Discriminator Loss: 1.0279, Generator Loss: 2.4343\n",
      "Epoch No [70/2500] Discriminator Loss: 1.2296, Generator Loss: 2.2258\n",
      "Epoch No [80/2500] Discriminator Loss: 1.0347, Generator Loss: 2.4107\n",
      "Epoch No [90/2500] Discriminator Loss: 1.0662, Generator Loss: 2.3212\n",
      "Epoch No [100/2500] Discriminator Loss: 1.2252, Generator Loss: 2.7139\n",
      "Epoch No [110/2500] Discriminator Loss: 1.2025, Generator Loss: 2.0792\n",
      "Epoch No [120/2500] Discriminator Loss: 1.2041, Generator Loss: 2.1457\n",
      "Epoch No [130/2500] Discriminator Loss: 1.1422, Generator Loss: 2.2225\n",
      "Epoch No [140/2500] Discriminator Loss: 1.3630, Generator Loss: 2.6724\n",
      "Epoch No [150/2500] Discriminator Loss: 0.8863, Generator Loss: 2.2532\n",
      "Epoch No [160/2500] Discriminator Loss: 1.1943, Generator Loss: 2.4708\n",
      "Epoch No [170/2500] Discriminator Loss: 1.2362, Generator Loss: 2.3113\n",
      "Epoch No [180/2500] Discriminator Loss: 1.3108, Generator Loss: 2.9458\n",
      "Epoch No [190/2500] Discriminator Loss: 1.2139, Generator Loss: 1.8894\n",
      "Epoch No [200/2500] Discriminator Loss: 1.3032, Generator Loss: 2.6141\n",
      "Epoch No [210/2500] Discriminator Loss: 1.0263, Generator Loss: 1.9645\n",
      "Epoch No [220/2500] Discriminator Loss: 0.8800, Generator Loss: 2.1515\n",
      "Epoch No [230/2500] Discriminator Loss: 1.1531, Generator Loss: 2.0732\n",
      "Epoch No [240/2500] Discriminator Loss: 1.2054, Generator Loss: 1.9881\n",
      "Epoch No [250/2500] Discriminator Loss: 1.0610, Generator Loss: 2.2419\n",
      "Epoch No [260/2500] Discriminator Loss: 1.3346, Generator Loss: 1.8502\n",
      "Epoch No [270/2500] Discriminator Loss: 1.5601, Generator Loss: 2.6141\n",
      "Epoch No [280/2500] Discriminator Loss: 0.9627, Generator Loss: 2.2500\n",
      "Epoch No [290/2500] Discriminator Loss: 0.8339, Generator Loss: 2.3959\n",
      "Epoch No [300/2500] Discriminator Loss: 1.3136, Generator Loss: 2.1149\n",
      "Epoch No [310/2500] Discriminator Loss: 1.2169, Generator Loss: 1.8815\n",
      "Epoch No [320/2500] Discriminator Loss: 1.1052, Generator Loss: 2.2845\n",
      "Epoch No [330/2500] Discriminator Loss: 1.4184, Generator Loss: 1.9283\n",
      "Epoch No [340/2500] Discriminator Loss: 1.1789, Generator Loss: 2.0158\n",
      "Epoch No [350/2500] Discriminator Loss: 1.0563, Generator Loss: 2.4580\n",
      "Epoch No [360/2500] Discriminator Loss: 1.3505, Generator Loss: 1.9883\n",
      "Epoch No [370/2500] Discriminator Loss: 1.4204, Generator Loss: 2.2026\n",
      "Epoch No [380/2500] Discriminator Loss: 0.9099, Generator Loss: 2.2287\n",
      "Epoch No [390/2500] Discriminator Loss: 1.4011, Generator Loss: 2.2407\n",
      "Epoch No [400/2500] Discriminator Loss: 0.8812, Generator Loss: 2.2244\n",
      "Epoch No [410/2500] Discriminator Loss: 0.8914, Generator Loss: 2.2491\n",
      "Epoch No [420/2500] Discriminator Loss: 1.2866, Generator Loss: 2.0274\n",
      "Epoch No [430/2500] Discriminator Loss: 1.2812, Generator Loss: 2.2940\n"
     ]
    },
    {
     "ename": "KeyboardInterrupt",
     "evalue": "",
     "output_type": "error",
     "traceback": [
      "\u001b[1;31m---------------------------------------------------------------------------\u001b[0m",
      "\u001b[1;31mKeyboardInterrupt\u001b[0m                         Traceback (most recent call last)",
      "\u001b[1;32m<ipython-input-16-194464eef9c1>\u001b[0m in \u001b[0;36m<module>\u001b[1;34m\u001b[0m\n\u001b[0;32m     68\u001b[0m         \u001b[0md_optimizer\u001b[0m\u001b[1;33m.\u001b[0m\u001b[0mzero_grad\u001b[0m\u001b[1;33m(\u001b[0m\u001b[1;33m)\u001b[0m\u001b[1;33m\u001b[0m\u001b[0m\n\u001b[0;32m     69\u001b[0m         \u001b[0mg_optimizer\u001b[0m\u001b[1;33m.\u001b[0m\u001b[0mzero_grad\u001b[0m\u001b[1;33m(\u001b[0m\u001b[1;33m)\u001b[0m\u001b[1;33m\u001b[0m\u001b[0m\n\u001b[1;32m---> 70\u001b[1;33m         \u001b[0mg_loss\u001b[0m\u001b[1;33m.\u001b[0m\u001b[0mbackward\u001b[0m\u001b[1;33m(\u001b[0m\u001b[1;33m)\u001b[0m\u001b[1;33m\u001b[0m\u001b[0m\n\u001b[0m\u001b[0;32m     71\u001b[0m         \u001b[0mg_optimizer\u001b[0m\u001b[1;33m.\u001b[0m\u001b[0mstep\u001b[0m\u001b[1;33m(\u001b[0m\u001b[1;33m)\u001b[0m\u001b[1;33m\u001b[0m\u001b[0m\n\u001b[0;32m     72\u001b[0m \u001b[1;33m\u001b[0m\u001b[0m\n",
      "\u001b[1;32mc:\\users\\monogatari\\appdata\\local\\programs\\python\\python36\\lib\\site-packages\\torch\\tensor.py\u001b[0m in \u001b[0;36mbackward\u001b[1;34m(self, gradient, retain_graph, create_graph)\u001b[0m\n\u001b[0;32m    100\u001b[0m                 \u001b[0mproducts\u001b[0m\u001b[1;33m.\u001b[0m \u001b[0mDefaults\u001b[0m \u001b[0mto\u001b[0m\u001b[0;31m \u001b[0m\u001b[0;31m`\u001b[0m\u001b[0;31m`\u001b[0m\u001b[1;32mFalse\u001b[0m\u001b[0;31m`\u001b[0m\u001b[0;31m`\u001b[0m\u001b[1;33m.\u001b[0m\u001b[1;33m\u001b[0m\u001b[0m\n\u001b[0;32m    101\u001b[0m         \"\"\"\n\u001b[1;32m--> 102\u001b[1;33m         \u001b[0mtorch\u001b[0m\u001b[1;33m.\u001b[0m\u001b[0mautograd\u001b[0m\u001b[1;33m.\u001b[0m\u001b[0mbackward\u001b[0m\u001b[1;33m(\u001b[0m\u001b[0mself\u001b[0m\u001b[1;33m,\u001b[0m \u001b[0mgradient\u001b[0m\u001b[1;33m,\u001b[0m \u001b[0mretain_graph\u001b[0m\u001b[1;33m,\u001b[0m \u001b[0mcreate_graph\u001b[0m\u001b[1;33m)\u001b[0m\u001b[1;33m\u001b[0m\u001b[0m\n\u001b[0m\u001b[0;32m    103\u001b[0m \u001b[1;33m\u001b[0m\u001b[0m\n\u001b[0;32m    104\u001b[0m     \u001b[1;32mdef\u001b[0m \u001b[0mregister_hook\u001b[0m\u001b[1;33m(\u001b[0m\u001b[0mself\u001b[0m\u001b[1;33m,\u001b[0m \u001b[0mhook\u001b[0m\u001b[1;33m)\u001b[0m\u001b[1;33m:\u001b[0m\u001b[1;33m\u001b[0m\u001b[0m\n",
      "\u001b[1;32mc:\\users\\monogatari\\appdata\\local\\programs\\python\\python36\\lib\\site-packages\\torch\\autograd\\__init__.py\u001b[0m in \u001b[0;36mbackward\u001b[1;34m(tensors, grad_tensors, retain_graph, create_graph, grad_variables)\u001b[0m\n\u001b[0;32m     88\u001b[0m     Variable._execution_engine.run_backward(\n\u001b[0;32m     89\u001b[0m         \u001b[0mtensors\u001b[0m\u001b[1;33m,\u001b[0m \u001b[0mgrad_tensors\u001b[0m\u001b[1;33m,\u001b[0m \u001b[0mretain_graph\u001b[0m\u001b[1;33m,\u001b[0m \u001b[0mcreate_graph\u001b[0m\u001b[1;33m,\u001b[0m\u001b[1;33m\u001b[0m\u001b[0m\n\u001b[1;32m---> 90\u001b[1;33m         allow_unreachable=True)  # allow_unreachable flag\n\u001b[0m\u001b[0;32m     91\u001b[0m \u001b[1;33m\u001b[0m\u001b[0m\n\u001b[0;32m     92\u001b[0m \u001b[1;33m\u001b[0m\u001b[0m\n",
      "\u001b[1;31mKeyboardInterrupt\u001b[0m: "
     ]
    }
   ],
   "source": [
    "#Patch Version\n",
    "\n",
    "# Train the model\n",
    "total_step = len(trainloader_pixel)\n",
    "d_loss_list = []\n",
    "g_loss_list = []\n",
    "acc_list = []\n",
    "num_epochs = 2500\n",
    "sample_imflag = 0\n",
    "imsize = 128\n",
    "\n",
    "for epoch in range(num_epochs):\n",
    "    \n",
    "    trainiter_nonpixel = iter(trainloader_nonpixel)\n",
    "    trainIter_pixel = iter(trainloader_pixel)\n",
    "    \n",
    "    for i in range(5):\n",
    "        \n",
    "        images, lbls = trainIter_pixel.next()\n",
    "        inputImages, input_lbls = trainiter_nonpixel.next()\n",
    "        \n",
    "        \n",
    "        images = images.to(device)\n",
    "        inputImages = inputImages.to(device)\n",
    "        \n",
    "        labels = torch.ones(len(lbls), 1, imsize // 4, imsize // 4).to(device)\n",
    "        \n",
    "        # Run the forward pass\n",
    "        real_classification = D(images)        \n",
    "        \n",
    "        fake_images = G(inputImages)\n",
    "        fake_classification = D(fake_images.detach())\n",
    "        \n",
    "        fake_lbls = torch.zeros(len(input_lbls), 1, imsize // 4, imsize // 4).to(device)\n",
    "        \n",
    "        d_loss_real = criterion(real_classification, labels)\n",
    "        d_loss_fake = criterion(fake_classification, fake_lbls)\n",
    "        d_loss = d_loss_real + d_loss_fake\n",
    "        \n",
    "\n",
    "        # Backprop and perform Adam optimisation for Discriminator\n",
    "        d_optimizer.zero_grad()\n",
    "        d_loss.backward()\n",
    "        d_optimizer.step()\n",
    "        \n",
    "        \n",
    "        \n",
    "        #Discriminator\n",
    "        fake_lbls_duped = torch.ones(len(input_lbls), 1, imsize // 4, imsize // 4).to(device)\n",
    "        fake_lbls_duped = fake_lbls_duped.to(device)\n",
    "   \n",
    "        fake_images = G(inputImages)\n",
    "        fake_classification = D(fake_images)\n",
    "    \n",
    "        #this loss denotes how well the generator duped/tricked the discriminator\n",
    "        g_loss = criterion(fake_classification, fake_lbls_duped)\n",
    "        \n",
    "        \n",
    "        inputImages_fmap = VGG((inputImages + 1) / 2)\n",
    "        G_fmap = VGG((fake_images + 1) / 2)   \n",
    "        Recon_loss =  L1_loss(G_fmap, inputImages_fmap.detach())\n",
    "        \n",
    "        \n",
    "        g_loss = g_loss + 1.5 * Recon_loss\n",
    "        \n",
    "        \n",
    "        # Backprop and perform Adam optimisation for generator\n",
    "        d_optimizer.zero_grad()\n",
    "        g_optimizer.zero_grad()\n",
    "        g_loss.backward()\n",
    "        g_optimizer.step()\n",
    "        \n",
    "      \n",
    "    if (epoch+1) % 10 == 0:\n",
    "        print('Epoch No [{}/{}] Discriminator Loss: {:.4f}, Generator Loss: {:.4f}'.format(epoch+1,num_epochs,d_loss.item(),g_loss.item()))\n",
    "        #appending loss every 10 epochs\n",
    "        d_loss_list.append(d_loss.item())\n",
    "        g_loss_list.append(g_loss.item())\n",
    "        \n",
    "        # Save fake images\n",
    "        fake_images = fake_images.view(fake_images.size(0), 3, imsize, imsize)\n",
    "        save_image(fake_images.data, 'images/GAN_IO/fakes/fake_images-%d.png' %(epoch+1))\n",
    "        \n",
    "        \n",
    "        # Save input images\n",
    "        if sample_imflag == 0:\n",
    "            inputImages = inputImages.view(inputImages.size(0), 3, imsize, imsize)\n",
    "            save_image(inputImages.data, 'images/GAN_IO/input_images/inputImages-%d.png' %(epoch+1))\n",
    "            sample_imflag = 1\n",
    "    \n",
    "\n",
    "    \n"
   ]
  },
  {
   "cell_type": "markdown",
   "metadata": {},
   "source": [
    "# DCGAN Training"
   ]
  },
  {
   "cell_type": "code",
   "execution_count": 17,
   "metadata": {},
   "outputs": [
    {
     "data": {
      "image/png": "[encoded data removed]",
      "text/plain": [
       "<Figure size 864x576 with 1 Axes>"
      ]
     },
     "metadata": {
      "needs_background": "light"
     },
     "output_type": "display_data"
    }
   ],
   "source": [
    "#GANs are saved\n",
    "torch.save(G.state_dict(), 'GAN_OUTs/DCGANPatchRes_reconinited_CartoonGAN.pkl')\n",
    "torch.save(D.state_dict(), 'GAN_OUTs/DCGANPatchRes_reconinited_CartoonGAN.pkl')\n",
    "\n",
    "plt.figure(figsize=[12,8])\n",
    "plt.plot(d_loss_list)\n",
    "plt.plot(g_loss_list)\n",
    "plt.ylabel('Loss')\n",
    "plt.xlabel('x10 Epochs')\n",
    "plt.savefig('images/GAN_LOSS_PLOT/GAN_Loss.png')\n",
    "\n"
   ]
  },
  {
   "cell_type": "markdown",
   "metadata": {},
   "source": [
    "# Load And Inference"
   ]
  },
  {
   "cell_type": "code",
   "execution_count": 19,
   "metadata": {},
   "outputs": [
    {
     "name": "stdout",
     "output_type": "stream",
     "text": [
      "350 images from the dataset\n",
      "torch.Size([10, 3, 128, 128])\n"
     ]
    }
   ],
   "source": [
    "G = Gen()\n",
    "G = G.to(device)\n",
    "G.load_state_dict(torch.load('GAN_OUTs/DCGAN1_generator.pkl'))\n",
    "\n",
    "\n",
    "batch_size = 10\n",
    "path = 'RealFaces_350'\n",
    "trainloader_pixel, _ = get_loaders(path,split_perc=1.0,batch_size=batch_size,num_workers=0)\n",
    "\n",
    "testImages = iter(trainloader_pixel).next()\n",
    "\n",
    "testimg = testImages[0].to(device)\n",
    "print(testimg.shape)\n",
    "\n",
    "output = G(testimg)\n",
    "\n",
    "fake_images = output.view(output.size(0), 3, 128, 128)\n",
    "f = fake_images.detach().cpu().numpy()\n",
    "save_image(fake_images.data, 'images/GAN_IO/CustomDCGAN_output.png')\n",
    "\n",
    "testImages = testimg.view(testimg.size(0), 3, 128, 128)\n",
    "t = testImages.detach().cpu().numpy()\n",
    "save_image(testimg.data, 'images/GAN_IO/CustomDCGAN_input.png')"
   ]
  },
  {
   "cell_type": "code",
   "execution_count": 23,
   "metadata": {},
   "outputs": [
    {
     "ename": "RuntimeError",
     "evalue": "Error(s) in loading state_dict for Gen_res:\n\tMissing key(s) in state_dict: \"down_convs.0.weight\", \"down_convs.0.bias\", \"down_convs.3.weight\", \"down_convs.3.bias\", \"down_convs.4.weight\", \"down_convs.4.bias\", \"down_convs.7.weight\", \"down_convs.7.bias\", \"down_convs.8.weight\", \"down_convs.8.bias\", \"resnet_blocks.0.conv1.weight\", \"resnet_blocks.0.conv1.bias\", \"resnet_blocks.0.conv2.weight\", \"resnet_blocks.0.conv2.bias\", \"resnet_blocks.1.conv1.weight\", \"resnet_blocks.1.conv1.bias\", \"resnet_blocks.1.conv2.weight\", \"resnet_blocks.1.conv2.bias\", \"resnet_blocks.2.conv1.weight\", \"resnet_blocks.2.conv1.bias\", \"resnet_blocks.2.conv2.weight\", \"resnet_blocks.2.conv2.bias\", \"resnet_blocks.3.conv1.weight\", \"resnet_blocks.3.conv1.bias\", \"resnet_blocks.3.conv2.weight\", \"resnet_blocks.3.conv2.bias\", \"resnet_blocks.4.conv1.weight\", \"resnet_blocks.4.conv1.bias\", \"resnet_blocks.4.conv2.weight\", \"resnet_blocks.4.conv2.bias\", \"resnet_blocks.5.conv1.weight\", \"resnet_blocks.5.conv1.bias\", \"resnet_blocks.5.conv2.weight\", \"resnet_blocks.5.conv2.bias\", \"up_convs.0.weight\", \"up_convs.0.bias\", \"up_convs.1.weight\", \"up_convs.1.bias\", \"up_convs.4.weight\", \"up_convs.4.bias\", \"up_convs.5.weight\", \"up_convs.5.bias\", \"up_convs.8.weight\", \"up_convs.8.bias\". \n\tUnexpected key(s) in state_dict: \"encode.0.weight\", \"encode.0.bias\", \"encode.1.weight\", \"encode.1.bias\", \"encode.1.running_mean\", \"encode.1.running_var\", \"encode.1.num_batches_tracked\", \"encode.2.weight\", \"encode.2.bias\", \"encode.3.weight\", \"encode.3.bias\", \"encode.3.running_mean\", \"encode.3.running_var\", \"encode.3.num_batches_tracked\", \"encode.4.weight\", \"encode.4.bias\", \"encode.5.weight\", \"encode.5.bias\", \"encode.5.running_mean\", \"encode.5.running_var\", \"encode.5.num_batches_tracked\", \"decode.0.weight\", \"decode.0.bias\", \"decode.1.weight\", \"decode.1.bias\", \"decode.1.running_mean\", \"decode.1.running_var\", \"decode.1.num_batches_tracked\", \"decode.2.weight\", \"decode.2.bias\", \"decode.3.weight\", \"decode.3.bias\", \"decode.3.running_mean\", \"decode.3.running_var\", \"decode.3.num_batches_tracked\", \"decode.4.weight\", \"decode.4.bias\". ",
     "output_type": "error",
     "traceback": [
      "\u001b[1;31m---------------------------------------------------------------------------\u001b[0m",
      "\u001b[1;31mRuntimeError\u001b[0m                              Traceback (most recent call last)",
      "\u001b[1;32m<ipython-input-23-8cccb44a0ed2>\u001b[0m in \u001b[0;36m<module>\u001b[1;34m\u001b[0m\n\u001b[0;32m      1\u001b[0m \u001b[0mG\u001b[0m \u001b[1;33m=\u001b[0m \u001b[0mGen_res\u001b[0m\u001b[1;33m(\u001b[0m\u001b[1;36m3\u001b[0m\u001b[1;33m,\u001b[0m\u001b[1;36m3\u001b[0m\u001b[1;33m)\u001b[0m\u001b[1;33m\u001b[0m\u001b[0m\n\u001b[0;32m      2\u001b[0m \u001b[0mG\u001b[0m \u001b[1;33m=\u001b[0m \u001b[0mG\u001b[0m\u001b[1;33m.\u001b[0m\u001b[0mto\u001b[0m\u001b[1;33m(\u001b[0m\u001b[0mdevice\u001b[0m\u001b[1;33m)\u001b[0m\u001b[1;33m\u001b[0m\u001b[0m\n\u001b[1;32m----> 3\u001b[1;33m \u001b[0mG\u001b[0m\u001b[1;33m.\u001b[0m\u001b[0mload_state_dict\u001b[0m\u001b[1;33m(\u001b[0m\u001b[0mtorch\u001b[0m\u001b[1;33m.\u001b[0m\u001b[0mload\u001b[0m\u001b[1;33m(\u001b[0m\u001b[1;34m'GAN_OUTs/DCGANPatch_generator.pkl'\u001b[0m\u001b[1;33m)\u001b[0m\u001b[1;33m)\u001b[0m\u001b[1;33m\u001b[0m\u001b[0m\n\u001b[0m\u001b[0;32m      4\u001b[0m \u001b[1;33m\u001b[0m\u001b[0m\n\u001b[0;32m      5\u001b[0m \u001b[1;33m\u001b[0m\u001b[0m\n",
      "\u001b[1;32mc:\\users\\monogatari\\appdata\\local\\programs\\python\\python36\\lib\\site-packages\\torch\\nn\\modules\\module.py\u001b[0m in \u001b[0;36mload_state_dict\u001b[1;34m(self, state_dict, strict)\u001b[0m\n\u001b[0;32m    767\u001b[0m         \u001b[1;32mif\u001b[0m \u001b[0mlen\u001b[0m\u001b[1;33m(\u001b[0m\u001b[0merror_msgs\u001b[0m\u001b[1;33m)\u001b[0m \u001b[1;33m>\u001b[0m \u001b[1;36m0\u001b[0m\u001b[1;33m:\u001b[0m\u001b[1;33m\u001b[0m\u001b[0m\n\u001b[0;32m    768\u001b[0m             raise RuntimeError('Error(s) in loading state_dict for {}:\\n\\t{}'.format(\n\u001b[1;32m--> 769\u001b[1;33m                                self.__class__.__name__, \"\\n\\t\".join(error_msgs)))\n\u001b[0m\u001b[0;32m    770\u001b[0m \u001b[1;33m\u001b[0m\u001b[0m\n\u001b[0;32m    771\u001b[0m     \u001b[1;32mdef\u001b[0m \u001b[0m_named_members\u001b[0m\u001b[1;33m(\u001b[0m\u001b[0mself\u001b[0m\u001b[1;33m,\u001b[0m \u001b[0mget_members_fn\u001b[0m\u001b[1;33m,\u001b[0m \u001b[0mprefix\u001b[0m\u001b[1;33m=\u001b[0m\u001b[1;34m''\u001b[0m\u001b[1;33m,\u001b[0m \u001b[0mrecurse\u001b[0m\u001b[1;33m=\u001b[0m\u001b[1;32mTrue\u001b[0m\u001b[1;33m)\u001b[0m\u001b[1;33m:\u001b[0m\u001b[1;33m\u001b[0m\u001b[0m\n",
      "\u001b[1;31mRuntimeError\u001b[0m: Error(s) in loading state_dict for Gen_res:\n\tMissing key(s) in state_dict: \"down_convs.0.weight\", \"down_convs.0.bias\", \"down_convs.3.weight\", \"down_convs.3.bias\", \"down_convs.4.weight\", \"down_convs.4.bias\", \"down_convs.7.weight\", \"down_convs.7.bias\", \"down_convs.8.weight\", \"down_convs.8.bias\", \"resnet_blocks.0.conv1.weight\", \"resnet_blocks.0.conv1.bias\", \"resnet_blocks.0.conv2.weight\", \"resnet_blocks.0.conv2.bias\", \"resnet_blocks.1.conv1.weight\", \"resnet_blocks.1.conv1.bias\", \"resnet_blocks.1.conv2.weight\", \"resnet_blocks.1.conv2.bias\", \"resnet_blocks.2.conv1.weight\", \"resnet_blocks.2.conv1.bias\", \"resnet_blocks.2.conv2.weight\", \"resnet_blocks.2.conv2.bias\", \"resnet_blocks.3.conv1.weight\", \"resnet_blocks.3.conv1.bias\", \"resnet_blocks.3.conv2.weight\", \"resnet_blocks.3.conv2.bias\", \"resnet_blocks.4.conv1.weight\", \"resnet_blocks.4.conv1.bias\", \"resnet_blocks.4.conv2.weight\", \"resnet_blocks.4.conv2.bias\", \"resnet_blocks.5.conv1.weight\", \"resnet_blocks.5.conv1.bias\", \"resnet_blocks.5.conv2.weight\", \"resnet_blocks.5.conv2.bias\", \"up_convs.0.weight\", \"up_convs.0.bias\", \"up_convs.1.weight\", \"up_convs.1.bias\", \"up_convs.4.weight\", \"up_convs.4.bias\", \"up_convs.5.weight\", \"up_convs.5.bias\", \"up_convs.8.weight\", \"up_convs.8.bias\". \n\tUnexpected key(s) in state_dict: \"encode.0.weight\", \"encode.0.bias\", \"encode.1.weight\", \"encode.1.bias\", \"encode.1.running_mean\", \"encode.1.running_var\", \"encode.1.num_batches_tracked\", \"encode.2.weight\", \"encode.2.bias\", \"encode.3.weight\", \"encode.3.bias\", \"encode.3.running_mean\", \"encode.3.running_var\", \"encode.3.num_batches_tracked\", \"encode.4.weight\", \"encode.4.bias\", \"encode.5.weight\", \"encode.5.bias\", \"encode.5.running_mean\", \"encode.5.running_var\", \"encode.5.num_batches_tracked\", \"decode.0.weight\", \"decode.0.bias\", \"decode.1.weight\", \"decode.1.bias\", \"decode.1.running_mean\", \"decode.1.running_var\", \"decode.1.num_batches_tracked\", \"decode.2.weight\", \"decode.2.bias\", \"decode.3.weight\", \"decode.3.bias\", \"decode.3.running_mean\", \"decode.3.running_var\", \"decode.3.num_batches_tracked\", \"decode.4.weight\", \"decode.4.bias\". "
     ]
    }
   ],
   "source": [
    "G = Gen_res(3,3)\n",
    "G = G.to(device)\n",
    "G.load_state_dict(torch.load('GAN_OUTs/DCGANPatch_generator.pkl'))\n",
    "\n",
    "\n",
    "batch_size = 10\n",
    "path = 'RealFaces_350'\n",
    "trainloader_pixel, _ = get_loaders(path,split_perc=1.0,batch_size=batch_size,num_workers=0)\n",
    "\n",
    "testImages = iter(trainloader_pixel).next()\n",
    "\n",
    "testimg = testImages[0].to(device)\n",
    "print(testimg.shape)\n",
    "\n",
    "output = G(testimg)\n",
    "\n",
    "fake_images = output.view(output.size(0), 3, 128, 128)\n",
    "f = fake_images.detach().cpu().numpy()\n",
    "save_image(fake_images.data, 'images/GAN_IO/CartoonGAN_output.png')\n",
    "\n",
    "testImages = testimg.view(testimg.size(0), 3, 128, 128)\n",
    "t = testImages.detach().cpu().numpy()\n",
    "save_image(testimg.data, 'images/GAN_IO/CartoonGAN_input.png')"
   ]
  },
  {
   "cell_type": "code",
   "execution_count": null,
   "metadata": {},
   "outputs": [],
   "source": []
  }
 ],
 "metadata": {
  "kernelspec": {
   "display_name": "Python 3",
   "language": "python",
   "name": "python3"
  },
  "language_info": {
   "codemirror_mode": {
    "name": "ipython",
    "version": 3
   },
   "file_extension": ".py",
   "mimetype": "text/x-python",
   "name": "python",
   "nbconvert_exporter": "python",
   "pygments_lexer": "ipython3",
   "version": "3.6.2"
  }
 },
 "nbformat": 4,
 "nbformat_minor": 2
}
