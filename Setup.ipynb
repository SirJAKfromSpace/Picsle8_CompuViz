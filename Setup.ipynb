{
 "cells": [
  {
   "cell_type": "code",
   "execution_count": null,
   "metadata": {},
   "outputs": [],
   "source": [
    "import pip\n",
    "import platform\n",
    "\n",
    "def install(package):\n",
    "    if hasattr(pip, 'main'):\n",
    "        pip.main(['install', package])\n",
    "    else:\n",
    "        pip._internal.main(['install', package])"
   ]
  },
  {
   "cell_type": "code",
   "execution_count": null,
   "metadata": {},
   "outputs": [],
   "source": [
    "ver = platform.python_version()\n",
    "print(ver[0],ver[2],ver[4])"
   ]
  },
  {
   "cell_type": "code",
   "execution_count": null,
   "metadata": {},
   "outputs": [],
   "source": [
    "install('numpy')\n",
    "install('matplotlib')\n",
    "install('Pillow')\n",
    "install('scikit-learn')\n",
    "install('opencv-python')\n",
    "install('glob3')"
   ]
  },
  {
   "cell_type": "code",
   "execution_count": null,
   "metadata": {},
   "outputs": [],
   "source": [
    "if ver[2]<'6':\n",
    "    install('https://download.pytorch.org/whl/cu90/torch-1.1.0-cp35-cp35m-win_amd64.whl')\n",
    "    print('version 3.5 pytorch installed')\n",
    "elif ver[2]=='6':\n",
    "    install('https://download.pytorch.org/whl/cu90/torch-1.1.0-cp36-cp36m-win_amd64.whl')\n",
    "    print('version 3.6 pytorch installed')\n",
    "elif ver[2]>'6':\n",
    "    install('https://download.pytorch.org/whl/cu90/torch-1.1.0-cp37-cp37m-win_amd64.whl')\n",
    "    print('version 3.7 pytorch installed')\n",
    "else:\n",
    "    print('please install manually, i cant help at this point, sorry')\n",
    "    \n",
    "install('torchvision')"
   ]
  }
 ],
 "metadata": {
  "kernelspec": {
   "display_name": "Python 3",
   "language": "python",
   "name": "python3"
  },
  "language_info": {
   "codemirror_mode": {
    "name": "ipython",
    "version": 3
   },
   "file_extension": ".py",
   "mimetype": "text/x-python",
   "name": "python",
   "nbconvert_exporter": "python",
   "pygments_lexer": "ipython3",
   "version": "3.6.6"
  }
 },
 "nbformat": 4,
 "nbformat_minor": 2
}
